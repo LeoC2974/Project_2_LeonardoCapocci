{
 "cells": [
  {
   "cell_type": "code",
   "execution_count": 1,
   "id": "52efa920",
   "metadata": {},
   "outputs": [],
   "source": [
    "import Bio\n",
    "from Bio import SeqIO\n",
    "from Bio.Seq import Seq\n",
    "import numpy as np\n",
    "import matplotlib.pyplot as plt\n",
    "from Bio import pairwise2\n",
    "import pylab"
   ]
  },
  {
   "cell_type": "code",
   "execution_count": 2,
   "id": "9ddc4aaf",
   "metadata": {},
   "outputs": [
    {
     "name": "stdout",
     "output_type": "stream",
     "text": [
      "ID: lcl|CR536510.1_cds_CAG38748.1_1\n",
      "Name: lcl|CR536510.1_cds_CAG38748.1_1\n",
      "Description: lcl|CR536510.1_cds_CAG38748.1_1 [gene=GSK3B] [db_xref=GOA:Q6FI27,HGNC:4617,InterPro:IPR000719,InterPro:IPR002290,InterPro:IPR008271,InterPro:IPR011009,InterPro:IPR017441,InterPro:IPR017442,UniProtKB/TrEMBL:Q6FI27] [protein_id=CAG38748.1] [location=1..1263] [gbkey=CDS]\n",
      "Number of features: 0\n",
      "Seq('MAIIYLILLFTAVRGDQICIGYHANNSTEKVDTNLERNVTVTHAKDILEKTHNG...ICI')\n",
      "MAIIYLILLFTAVRGDQICIGYHANNSTEKVDTNLERNVTVTHAKDILEKTHNGKLCKLNGIPPLELGDCSIAGWLLGNPECDRLLSVPEWSYIMEKENPRDGLCYPGSFNDYEELKHLLSSVKHFEKVKILPKDRWTQHTTTGGSRACAVSGNPSFFRNMVWLTKEGSDYPVAKGSYNNTSGEQMLIIWGVHHPIDETEQRTLYQNVGTYVSVGTSTLNKRSTPEIATRPKVNGQGGRMEFSWTLLDMWDTINFESTGNLIAPEYGFKISKRGSSGIMKTEGTLENCETKCQTPLGAINTTLPFHNVHPLTIGECPKYVKSEKLVLATGLRNVPQIESRGLFGAIAGFIEGGWQGMVDGWYGYHHSNDQGSGYAADKESTQKAFDGITNKVNSVIEKMNTQFEAVGKEFGNLERRLENLNKRMEDGFLDVWTYNAELLVLMENERTLDFHDSNVKNLYDKVRMQLRDNVKELGNGCFEFYHKCDDECMNSVKNGTYDYPKYEEESKLNRNEIKGVKLSSMGVYQILAIYATVAGSLSLAIMMAGISFWMCSNGSLQCRICI\n"
     ]
    }
   ],
   "source": [
    "InfluenzaA = SeqIO.read(\"InfluenzaA_AAs.fasta\", \"fasta\")\n",
    "print(InfluenzaA)\n",
    "InfluenzaA_seq = InfluenzaA.seq\n",
    "print(InfluenzaA_seq)"
   ]
  },
  {
   "cell_type": "code",
   "execution_count": 3,
   "id": "1d8f6b1c",
   "metadata": {},
   "outputs": [
    {
     "name": "stdout",
     "output_type": "stream",
     "text": [
      "ID: lcl|CR536510.1_cds_CAG38748.1_1\n",
      "Name: lcl|CR536510.1_cds_CAG38748.1_1\n",
      "Description: lcl|CR536510.1_cds_CAG38748.1_1 [gene=GSK3B] [db_xref=GOA:Q6FI27,HGNC:4617,InterPro:IPR000719,InterPro:IPR002290,InterPro:IPR008271,InterPro:IPR011009,InterPro:IPR017441,InterPro:IPR017442,UniProtKB/TrEMBL:Q6FI27] [protein_id=CAG38748.1] [location=1..1263] [gbkey=CDS]\n",
      "Number of features: 0\n",
      "Seq('MGVTGILQLPRDRFKRTSFFLWVIILFQRTFSIPLGVIHNSTLQVSDVDKLVCR...FVF')\n",
      "MGVTGILQLPRDRFKRTSFFLWVIILFQRTFSIPLGVIHNSTLQVSDVDKLVCRDKLSSTNQLRSVGLNLEGNGVATDVPSATKRWGFRSGVPPKVVNYEAGEWAENCYNLEIKKPDGSECLPAAPDGIRGFPRCRYVHKVSGTGPCAGDFAFHKEGAFFLYDRLASTVIYRGTTFAEGVVAFLILPQAKKDFFSSHPLREPVNATEDPSSGYYSTTIRYQATGFGTNETEYLFEVDNLTYVQLESRFTPQFLLQLNETIYTSGKRSNTTGKLIWKVNPEIDTTIGEWAFWETKKNLTRKIRSEELSFTVVSNGAKNISGQSPARTSSDPGTNTTTEDHKIMASENSSAMVQVHSQGREAAVSHLTTLATISTSPQSLTTKPGPDNSTHNTPVYKLDISEATQVEQHHRRTDNDSTASDTPSATTAAGPPKAENTNTSKSTDFLDPATTTSPQNHSETAGNNNTHHQDTGEESASSGKLGLITNTIAGVAGLITGGRRTRREAIVNAQPKCNPNLHYWTTQDEGAAIGLAWIPYFGPAAEGIYIEGLMHNQDGLICGLRQLANETTQALQLFLRATTELRTFSILNRKAIDFLLQRWGGTCHILGPDCCIEPHDWTKNITDKIDQIIHDFVDKTLPDQGDNDNWWTGWRQWIPAGIGVTGVIIAVIALFCICKFVF\n"
     ]
    }
   ],
   "source": [
    "ZEBOV = SeqIO.read(\"ZEBOV_AAs.fasta\", \"fasta\")\n",
    "print(ZEBOV)\n",
    "ZEBOV_seq = ZEBOV.seq\n",
    "print(ZEBOV_seq)"
   ]
  },
  {
   "cell_type": "code",
   "execution_count": 15,
   "id": "00bfbdc5",
   "metadata": {},
   "outputs": [],
   "source": [
    "size1 = len(InfluenzaA)\n",
    "size2 = len(ZEBOV)\n",
    "size=len(InfluenzaA)+len(ZEBOV)"
   ]
  },
  {
   "cell_type": "code",
   "execution_count": 11,
   "id": "44acb7d5",
   "metadata": {},
   "outputs": [],
   "source": [
    "alignments_score = np.empty(shape=(size1, size2))"
   ]
  },
  {
   "cell_type": "code",
   "execution_count": 6,
   "id": "9ceb733f",
   "metadata": {},
   "outputs": [],
   "source": [
    "# I used the wrong approach to make the dot plot of the pairwise sequence alignment\n",
    "window = 3 #set window size\n",
    "seq_1 = str(InfluenzaA_seq)\n",
    "\n",
    "seq_2 = str(ZEBOV_seq)\n",
    "\n",
    "data = [[(seq_1[i : i + window] != seq_2[j : j + window])\n",
    "        for j in range(len(seq_1) - window)]\n",
    "    for i in range(len(seq_2) - window)]"
   ]
  },
  {
   "cell_type": "code",
   "execution_count": 7,
   "id": "a7b9c22d",
   "metadata": {},
   "outputs": [
    {
     "data": {
      "image/png": "[encoded data removed]",
      "text/plain": [
       "<Figure size 432x288 with 1 Axes>"
      ]
     },
     "metadata": {
      "needs_background": "light"
     },
     "output_type": "display_data"
    }
   ],
   "source": [
    "import pylab\n",
    "pylab.gray()\n",
    "pylab.imshow(data)\n",
    "pylab.xlabel(\"%s (length %i bp)\" % (InfluenzaA.id, len(InfluenzaA_seq)))\n",
    "pylab.ylabel(\"%s (length %i bp)\" % (ZEBOV.id, len(ZEBOV_seq)))\n",
    "pylab.title(\"Dot plot with window size %i\\n(allowing no mis-matches)\" % window)\n",
    "pylab.show()"
   ]
  },
  {
   "cell_type": "code",
   "execution_count": 16,
   "id": "48899689",
   "metadata": {
    "scrolled": false
   },
   "outputs": [
    {
     "ename": "IndexError",
     "evalue": "string index out of range",
     "output_type": "error",
     "traceback": [
      "\u001b[0;31m---------------------------------------------------------------------------\u001b[0m",
      "\u001b[0;31mIndexError\u001b[0m                                Traceback (most recent call last)",
      "\u001b[0;32m/var/folders/jg/65k9s9d161l72dyd4_bw4gsw0000gn/T/ipykernel_18379/1568708200.py\u001b[0m in \u001b[0;36m<module>\u001b[0;34m\u001b[0m\n\u001b[1;32m      6\u001b[0m             \u001b[0mmy_numpy_array\u001b[0m\u001b[0;34m[\u001b[0m\u001b[0mi\u001b[0m\u001b[0;34m,\u001b[0m\u001b[0mj\u001b[0m\u001b[0;34m]\u001b[0m \u001b[0;34m=\u001b[0m \u001b[0mint\u001b[0m\u001b[0;34m(\u001b[0m\u001b[0mpairwise2\u001b[0m\u001b[0;34m.\u001b[0m\u001b[0malign\u001b[0m\u001b[0;34m.\u001b[0m\u001b[0mglobalxx\u001b[0m\u001b[0;34m(\u001b[0m\u001b[0mX\u001b[0m\u001b[0;34m,\u001b[0m \u001b[0mY\u001b[0m\u001b[0;34m,\u001b[0m \u001b[0mscore_only\u001b[0m\u001b[0;34m=\u001b[0m\u001b[0;32mTrue\u001b[0m\u001b[0;34m)\u001b[0m\u001b[0;34m)\u001b[0m\u001b[0;34m\u001b[0m\u001b[0;34m\u001b[0m\u001b[0m\n\u001b[1;32m      7\u001b[0m     \u001b[0;32mreturn\u001b[0m \u001b[0mmy_numpy_array\u001b[0m\u001b[0;34m\u001b[0m\u001b[0;34m\u001b[0m\u001b[0m\n\u001b[0;32m----> 8\u001b[0;31m \u001b[0mMy_alignment_Scores\u001b[0m \u001b[0;34m=\u001b[0m \u001b[0mpairwise_seq_heatmap\u001b[0m\u001b[0;34m(\u001b[0m\u001b[0malignments_score\u001b[0m\u001b[0;34m,\u001b[0m \u001b[0msize\u001b[0m\u001b[0;34m)\u001b[0m\u001b[0;34m\u001b[0m\u001b[0;34m\u001b[0m\u001b[0m\n\u001b[0m",
      "\u001b[0;32m/var/folders/jg/65k9s9d161l72dyd4_bw4gsw0000gn/T/ipykernel_18379/1568708200.py\u001b[0m in \u001b[0;36mpairwise_seq_heatmap\u001b[0;34m(my_numpy_array, size)\u001b[0m\n\u001b[1;32m      3\u001b[0m         \u001b[0;32mfor\u001b[0m \u001b[0mj\u001b[0m \u001b[0;32min\u001b[0m \u001b[0mrange\u001b[0m\u001b[0;34m(\u001b[0m\u001b[0msize\u001b[0m\u001b[0;34m)\u001b[0m\u001b[0;34m:\u001b[0m\u001b[0;34m\u001b[0m\u001b[0;34m\u001b[0m\u001b[0m\n\u001b[1;32m      4\u001b[0m             \u001b[0mX\u001b[0m \u001b[0;34m=\u001b[0m \u001b[0mInfluenzaA_seq\u001b[0m\u001b[0;34m[\u001b[0m\u001b[0mi\u001b[0m\u001b[0;34m]\u001b[0m \u001b[0;31m# the sequences being aligned\u001b[0m\u001b[0;34m\u001b[0m\u001b[0;34m\u001b[0m\u001b[0m\n\u001b[0;32m----> 5\u001b[0;31m             \u001b[0mY\u001b[0m \u001b[0;34m=\u001b[0m \u001b[0mZEBOV_seq\u001b[0m\u001b[0;34m[\u001b[0m\u001b[0mj\u001b[0m\u001b[0;34m]\u001b[0m\u001b[0;34m\u001b[0m\u001b[0;34m\u001b[0m\u001b[0m\n\u001b[0m\u001b[1;32m      6\u001b[0m             \u001b[0mmy_numpy_array\u001b[0m\u001b[0;34m[\u001b[0m\u001b[0mi\u001b[0m\u001b[0;34m,\u001b[0m\u001b[0mj\u001b[0m\u001b[0;34m]\u001b[0m \u001b[0;34m=\u001b[0m \u001b[0mint\u001b[0m\u001b[0;34m(\u001b[0m\u001b[0mpairwise2\u001b[0m\u001b[0;34m.\u001b[0m\u001b[0malign\u001b[0m\u001b[0;34m.\u001b[0m\u001b[0mglobalxx\u001b[0m\u001b[0;34m(\u001b[0m\u001b[0mX\u001b[0m\u001b[0;34m,\u001b[0m \u001b[0mY\u001b[0m\u001b[0;34m,\u001b[0m \u001b[0mscore_only\u001b[0m\u001b[0;34m=\u001b[0m\u001b[0;32mTrue\u001b[0m\u001b[0;34m)\u001b[0m\u001b[0;34m)\u001b[0m\u001b[0;34m\u001b[0m\u001b[0;34m\u001b[0m\u001b[0m\n\u001b[1;32m      7\u001b[0m     \u001b[0;32mreturn\u001b[0m \u001b[0mmy_numpy_array\u001b[0m\u001b[0;34m\u001b[0m\u001b[0;34m\u001b[0m\u001b[0m\n",
      "\u001b[0;32m~/opt/anaconda3/lib/python3.9/site-packages/Bio/Seq.py\u001b[0m in \u001b[0;36m__getitem__\u001b[0;34m(self, index)\u001b[0m\n\u001b[1;32m    215\u001b[0m         \u001b[0;32mif\u001b[0m \u001b[0misinstance\u001b[0m\u001b[0;34m(\u001b[0m\u001b[0mindex\u001b[0m\u001b[0;34m,\u001b[0m \u001b[0mint\u001b[0m\u001b[0;34m)\u001b[0m\u001b[0;34m:\u001b[0m\u001b[0;34m\u001b[0m\u001b[0;34m\u001b[0m\u001b[0m\n\u001b[1;32m    216\u001b[0m             \u001b[0;31m# Return a single letter as a string\u001b[0m\u001b[0;34m\u001b[0m\u001b[0;34m\u001b[0m\u001b[0m\n\u001b[0;32m--> 217\u001b[0;31m             \u001b[0;32mreturn\u001b[0m \u001b[0mself\u001b[0m\u001b[0;34m.\u001b[0m\u001b[0m_data\u001b[0m\u001b[0;34m[\u001b[0m\u001b[0mindex\u001b[0m\u001b[0;34m]\u001b[0m\u001b[0;34m\u001b[0m\u001b[0;34m\u001b[0m\u001b[0m\n\u001b[0m\u001b[1;32m    218\u001b[0m         \u001b[0;32melse\u001b[0m\u001b[0;34m:\u001b[0m\u001b[0;34m\u001b[0m\u001b[0;34m\u001b[0m\u001b[0m\n\u001b[1;32m    219\u001b[0m             \u001b[0;31m# Return the (sub)sequence as another Seq object\u001b[0m\u001b[0;34m\u001b[0m\u001b[0;34m\u001b[0m\u001b[0m\n",
      "\u001b[0;31mIndexError\u001b[0m: string index out of range"
     ]
    }
   ],
   "source": [
    "def pairwise_seq_heatmap(my_numpy_array, size): \n",
    "    for i in range(size): #nested for loop\n",
    "        for j in range(size):\n",
    "            X = InfluenzaA_seq[i] # the sequences being aligned\n",
    "            Y = ZEBOV_seq[j]\n",
    "            my_numpy_array[i,j] = int(pairwise2.align.globalxx(X, Y, score_only=True))\n",
    "    return my_numpy_array\n",
    "My_alignment_Scores = pairwise_seq_heatmap(alignments_score, size)"
   ]
  },
  {
   "cell_type": "code",
   "execution_count": 13,
   "id": "d12eb643",
   "metadata": {},
   "outputs": [
    {
     "data": {
      "image/png": "[encoded data removed]",
      "text/plain": [
       "<Figure size 432x288 with 2 Axes>"
      ]
     },
     "metadata": {
      "needs_background": "light"
     },
     "output_type": "display_data"
    }
   ],
   "source": [
    "fig, ax = plt.subplots() #creates the subplot\n",
    "plt.imshow(alignments_score) #to show the heatplot\n",
    "im = ax.imshow(alignments_score) #construct heat map with axes\n",
    "cbar = ax.figure.colorbar(im) #color bar on right side of the heat map\n",
    "plt.show() #show plot"
   ]
  },
  {
   "cell_type": "code",
   "execution_count": null,
   "id": "c841f34a",
   "metadata": {},
   "outputs": [],
   "source": []
  },
  {
   "cell_type": "code",
   "execution_count": null,
   "id": "9851e9ec",
   "metadata": {},
   "outputs": [],
   "source": []
  }
 ],
 "metadata": {
  "kernelspec": {
   "display_name": "Python 3 (ipykernel)",
   "language": "python",
   "name": "python3"
  },
  "language_info": {
   "codemirror_mode": {
    "name": "ipython",
    "version": 3
   },
   "file_extension": ".py",
   "mimetype": "text/x-python",
   "name": "python",
   "nbconvert_exporter": "python",
   "pygments_lexer": "ipython3",
   "version": "3.9.7"
  }
 },
 "nbformat": 4,
 "nbformat_minor": 5
}
